{
 "cells": [
  {
   "cell_type": "markdown",
   "metadata": {},
   "source": [
    "# This is the Analysis of the First Part"
   ]
  },
  {
   "cell_type": "code",
   "execution_count": 1,
   "metadata": {},
   "outputs": [],
   "source": [
    "import numpy as np\n",
    "import pandas as pd\n",
    "import matplotlib.pyplot as plt\n",
    "%matplotlib inline"
   ]
  },
  {
   "cell_type": "code",
   "execution_count": 2,
   "metadata": {},
   "outputs": [
    {
     "name": "stdout",
     "output_type": "stream",
     "text": [
      "{'encoding': 'ISO-8859-1', 'confidence': 0.73, 'language': ''}\n"
     ]
    }
   ],
   "source": [
    "import chardet\n",
    "\n",
    "with open(\"AMI_GSE66360_series_matrix.csv\", \"rb\") as f:\n",
    "    result = chardet.detect(f.read(100000))  # Read first 100,000 bytes\n",
    "    print(result) \n",
    "\n"
   ]
  },
  {
   "cell_type": "code",
   "execution_count": 16,
   "metadata": {},
   "outputs": [
    {
     "name": "stderr",
     "output_type": "stream",
     "text": [
      "C:\\Users\\wmata\\AppData\\Local\\Temp\\ipykernel_16540\\2125116768.py:4: DtypeWarning: Columns (1,2,3,4,5,6,7,8,9,10,11,12,13,14,15,16,17,18,19,20,21,22,23,24,25,26,27,28,29,30,31,32,33,34,35,36,37,38,39,40,41,42,43,44,45,46,47,48,49,50,51,52,53,54,55,56,57,58,59,60,61,62,63,64,65,66,67,68,69,70,71,72,73,74,75,76,77,78,79,80,81,82,83,84,85,86,87,88,89,90,91,92,93,94,95,96,97,98,99) have mixed types. Specify dtype option on import or set low_memory=False.\n",
      "  raw_df = pd.read_csv(FILE_PATH, skiprows=ROWS_TO_SKIP,  encoding=result['encoding'], header=None).T\n"
     ]
    },
    {
     "data": {
      "text/html": [
       "<div>\n",
       "<style scoped>\n",
       "    .dataframe tbody tr th:only-of-type {\n",
       "        vertical-align: middle;\n",
       "    }\n",
       "\n",
       "    .dataframe tbody tr th {\n",
       "        vertical-align: top;\n",
       "    }\n",
       "\n",
       "    .dataframe thead th {\n",
       "        text-align: right;\n",
       "    }\n",
       "</style>\n",
       "<table border=\"1\" class=\"dataframe\">\n",
       "  <thead>\n",
       "    <tr style=\"text-align: right;\">\n",
       "      <th></th>\n",
       "      <th>0</th>\n",
       "      <th>1</th>\n",
       "      <th>2</th>\n",
       "      <th>3</th>\n",
       "      <th>4</th>\n",
       "      <th>5</th>\n",
       "      <th>6</th>\n",
       "      <th>7</th>\n",
       "      <th>8</th>\n",
       "      <th>9</th>\n",
       "      <th>...</th>\n",
       "      <th>54667</th>\n",
       "      <th>54668</th>\n",
       "      <th>54669</th>\n",
       "      <th>54670</th>\n",
       "      <th>54671</th>\n",
       "      <th>54672</th>\n",
       "      <th>54673</th>\n",
       "      <th>54674</th>\n",
       "      <th>54675</th>\n",
       "      <th>54676</th>\n",
       "    </tr>\n",
       "  </thead>\n",
       "  <tbody>\n",
       "    <tr>\n",
       "      <th>0</th>\n",
       "      <td>Class</td>\n",
       "      <td>ID_REF</td>\n",
       "      <td>1007_s_at</td>\n",
       "      <td>1053_at</td>\n",
       "      <td>117_at</td>\n",
       "      <td>121_at</td>\n",
       "      <td>1255_g_at</td>\n",
       "      <td>1294_at</td>\n",
       "      <td>1316_at</td>\n",
       "      <td>1320_at</td>\n",
       "      <td>...</td>\n",
       "      <td>AFFX-r2-Ec-bioD-3_at</td>\n",
       "      <td>AFFX-r2-Ec-bioD-5_at</td>\n",
       "      <td>AFFX-r2-P1-cre-3_at</td>\n",
       "      <td>AFFX-r2-P1-cre-5_at</td>\n",
       "      <td>AFFX-ThrX-3_at</td>\n",
       "      <td>AFFX-ThrX-5_at</td>\n",
       "      <td>AFFX-ThrX-M_at</td>\n",
       "      <td>AFFX-TrpnX-3_at</td>\n",
       "      <td>AFFX-TrpnX-5_at</td>\n",
       "      <td>AFFX-TrpnX-M_at</td>\n",
       "    </tr>\n",
       "    <tr>\n",
       "      <th>1</th>\n",
       "      <td>H</td>\n",
       "      <td>GSM1620819</td>\n",
       "      <td>5.866377893</td>\n",
       "      <td>8.22579012</td>\n",
       "      <td>6.17973231</td>\n",
       "      <td>6.179477974</td>\n",
       "      <td>2.792047952</td>\n",
       "      <td>9.290410779</td>\n",
       "      <td>6.998285145</td>\n",
       "      <td>5.348943925</td>\n",
       "      <td>...</td>\n",
       "      <td>13.257325</td>\n",
       "      <td>13.266235</td>\n",
       "      <td>14.57123</td>\n",
       "      <td>14.276568</td>\n",
       "      <td>4.504659</td>\n",
       "      <td>3.139334</td>\n",
       "      <td>2.747015</td>\n",
       "      <td>2.651554</td>\n",
       "      <td>3.413429</td>\n",
       "      <td>3.140612</td>\n",
       "    </tr>\n",
       "    <tr>\n",
       "      <th>2</th>\n",
       "      <td>H</td>\n",
       "      <td>GSM1620820</td>\n",
       "      <td>4.948736331</td>\n",
       "      <td>7.525865369</td>\n",
       "      <td>6.628137025</td>\n",
       "      <td>6.58288903</td>\n",
       "      <td>2.69571445</td>\n",
       "      <td>9.462275035</td>\n",
       "      <td>6.558214949</td>\n",
       "      <td>5.410884095</td>\n",
       "      <td>...</td>\n",
       "      <td>13.59386</td>\n",
       "      <td>13.517013</td>\n",
       "      <td>14.738834</td>\n",
       "      <td>14.341233</td>\n",
       "      <td>4.409226</td>\n",
       "      <td>3.039961</td>\n",
       "      <td>2.638606</td>\n",
       "      <td>2.643615</td>\n",
       "      <td>3.399063</td>\n",
       "      <td>3.132691</td>\n",
       "    </tr>\n",
       "    <tr>\n",
       "      <th>3</th>\n",
       "      <td>H</td>\n",
       "      <td>GSM1620821</td>\n",
       "      <td>5.148384393</td>\n",
       "      <td>7.764636529</td>\n",
       "      <td>5.859151477</td>\n",
       "      <td>6.602134766</td>\n",
       "      <td>2.580181122</td>\n",
       "      <td>9.116776316</td>\n",
       "      <td>6.851622539</td>\n",
       "      <td>5.254073031</td>\n",
       "      <td>...</td>\n",
       "      <td>13.372759</td>\n",
       "      <td>13.416583</td>\n",
       "      <td>14.627181</td>\n",
       "      <td>14.318568</td>\n",
       "      <td>4.310076</td>\n",
       "      <td>3.220109</td>\n",
       "      <td>2.495261</td>\n",
       "      <td>2.626028</td>\n",
       "      <td>3.53997</td>\n",
       "      <td>3.698396</td>\n",
       "    </tr>\n",
       "    <tr>\n",
       "      <th>4</th>\n",
       "      <td>H</td>\n",
       "      <td>GSM1620822</td>\n",
       "      <td>5.064418945</td>\n",
       "      <td>7.198461482</td>\n",
       "      <td>5.974135101</td>\n",
       "      <td>6.545904723</td>\n",
       "      <td>2.712123845</td>\n",
       "      <td>9.134584186</td>\n",
       "      <td>7.357827486</td>\n",
       "      <td>5.242139865</td>\n",
       "      <td>...</td>\n",
       "      <td>13.490226</td>\n",
       "      <td>13.494827</td>\n",
       "      <td>14.754124</td>\n",
       "      <td>14.363297</td>\n",
       "      <td>4.439311</td>\n",
       "      <td>3.263782</td>\n",
       "      <td>2.544199</td>\n",
       "      <td>2.504958</td>\n",
       "      <td>3.396225</td>\n",
       "      <td>3.638612</td>\n",
       "    </tr>\n",
       "  </tbody>\n",
       "</table>\n",
       "<p>5 rows × 54677 columns</p>\n",
       "</div>"
      ],
      "text/plain": [
       "   0           1            2            3            4            5      \\\n",
       "0  Class      ID_REF    1007_s_at      1053_at       117_at       121_at   \n",
       "1      H  GSM1620819  5.866377893   8.22579012   6.17973231  6.179477974   \n",
       "2      H  GSM1620820  4.948736331  7.525865369  6.628137025   6.58288903   \n",
       "3      H  GSM1620821  5.148384393  7.764636529  5.859151477  6.602134766   \n",
       "4      H  GSM1620822  5.064418945  7.198461482  5.974135101  6.545904723   \n",
       "\n",
       "         6            7            8            9      ...  \\\n",
       "0    1255_g_at      1294_at      1316_at      1320_at  ...   \n",
       "1  2.792047952  9.290410779  6.998285145  5.348943925  ...   \n",
       "2   2.69571445  9.462275035  6.558214949  5.410884095  ...   \n",
       "3  2.580181122  9.116776316  6.851622539  5.254073031  ...   \n",
       "4  2.712123845  9.134584186  7.357827486  5.242139865  ...   \n",
       "\n",
       "                  54667                 54668                54669  \\\n",
       "0  AFFX-r2-Ec-bioD-3_at  AFFX-r2-Ec-bioD-5_at  AFFX-r2-P1-cre-3_at   \n",
       "1             13.257325             13.266235             14.57123   \n",
       "2              13.59386             13.517013            14.738834   \n",
       "3             13.372759             13.416583            14.627181   \n",
       "4             13.490226             13.494827            14.754124   \n",
       "\n",
       "                 54670           54671           54672           54673  \\\n",
       "0  AFFX-r2-P1-cre-5_at  AFFX-ThrX-3_at  AFFX-ThrX-5_at  AFFX-ThrX-M_at   \n",
       "1            14.276568        4.504659        3.139334        2.747015   \n",
       "2            14.341233        4.409226        3.039961        2.638606   \n",
       "3            14.318568        4.310076        3.220109        2.495261   \n",
       "4            14.363297        4.439311        3.263782        2.544199   \n",
       "\n",
       "             54674            54675            54676  \n",
       "0  AFFX-TrpnX-3_at  AFFX-TrpnX-5_at  AFFX-TrpnX-M_at  \n",
       "1         2.651554         3.413429         3.140612  \n",
       "2         2.643615         3.399063         3.132691  \n",
       "3         2.626028          3.53997         3.698396  \n",
       "4         2.504958         3.396225         3.638612  \n",
       "\n",
       "[5 rows x 54677 columns]"
      ]
     },
     "execution_count": 16,
     "metadata": {},
     "output_type": "execute_result"
    }
   ],
   "source": [
    "ROWS_TO_SKIP = 59\n",
    "FILE_PATH = 'AMI_GSE66360_series_matrix.csv'\n",
    "\n",
    "raw_df = pd.read_csv(FILE_PATH, skiprows=ROWS_TO_SKIP,  encoding=result['encoding'], header=None).T\n",
    "GENE_AXIS = 1\n",
    "SAMPLE_AXIS = 0\n",
    "raw_df.head()"
   ]
  },
  {
   "cell_type": "code",
   "execution_count": 18,
   "metadata": {},
   "outputs": [],
   "source": [
    "df = raw_df.copy()\n",
    "df.columns = raw_df.iloc[0]\n",
    "df.drop(df.index[0], inplace=True)\n",
    "# df.set_index('ID_REF')\n",
    "labels = df[['Class']].copy()\n",
    "df.drop(columns=['Class'], inplace=True)\n"
   ]
  },
  {
   "cell_type": "code",
   "execution_count": 19,
   "metadata": {},
   "outputs": [
    {
     "data": {
      "text/html": [
       "<div>\n",
       "<style scoped>\n",
       "    .dataframe tbody tr th:only-of-type {\n",
       "        vertical-align: middle;\n",
       "    }\n",
       "\n",
       "    .dataframe tbody tr th {\n",
       "        vertical-align: top;\n",
       "    }\n",
       "\n",
       "    .dataframe thead th {\n",
       "        text-align: right;\n",
       "    }\n",
       "</style>\n",
       "<table border=\"1\" class=\"dataframe\">\n",
       "  <thead>\n",
       "    <tr style=\"text-align: right;\">\n",
       "      <th></th>\n",
       "      <th>Class</th>\n",
       "    </tr>\n",
       "  </thead>\n",
       "  <tbody>\n",
       "    <tr>\n",
       "      <th>1</th>\n",
       "      <td>H</td>\n",
       "    </tr>\n",
       "    <tr>\n",
       "      <th>2</th>\n",
       "      <td>H</td>\n",
       "    </tr>\n",
       "    <tr>\n",
       "      <th>3</th>\n",
       "      <td>H</td>\n",
       "    </tr>\n",
       "    <tr>\n",
       "      <th>4</th>\n",
       "      <td>H</td>\n",
       "    </tr>\n",
       "    <tr>\n",
       "      <th>5</th>\n",
       "      <td>H</td>\n",
       "    </tr>\n",
       "  </tbody>\n",
       "</table>\n",
       "</div>"
      ],
      "text/plain": [
       "0 Class\n",
       "1     H\n",
       "2     H\n",
       "3     H\n",
       "4     H\n",
       "5     H"
      ]
     },
     "execution_count": 19,
     "metadata": {},
     "output_type": "execute_result"
    }
   ],
   "source": [
    "df.head()\n",
    "labels.head()"
   ]
  },
  {
   "cell_type": "markdown",
   "metadata": {},
   "source": [
    "##### a. High level description of the data and some pre-processing"
   ]
  },
  {
   "cell_type": "markdown",
   "metadata": {},
   "source": [
    "1) How many genes profiled?\n"
   ]
  },
  {
   "cell_type": "code",
   "execution_count": 20,
   "metadata": {},
   "outputs": [
    {
     "name": "stdout",
     "output_type": "stream",
     "text": [
      "There are 54675 genes profiled in the dataset.\n"
     ]
    }
   ],
   "source": [
    "num_genes = df.shape[GENE_AXIS] - 1 # subtract 1 to account for the 'ID_REF' column\n",
    "print(f\"There are {num_genes} genes profiled in the dataset.\")"
   ]
  },
  {
   "cell_type": "markdown",
   "metadata": {},
   "source": [
    "2) How many samples (subjects/patients) in total?\n"
   ]
  },
  {
   "cell_type": "code",
   "execution_count": 21,
   "metadata": {},
   "outputs": [
    {
     "name": "stdout",
     "output_type": "stream",
     "text": [
      "There are 99 subjects profiled in the dataset.\n"
     ]
    }
   ],
   "source": [
    "subject = df.shape[SAMPLE_AXIS]\n",
    "print(f\"There are {subject} subjects profiled in the dataset.\")"
   ]
  },
  {
   "cell_type": "markdown",
   "metadata": {},
   "source": [
    "3) How many samples in each class?\n"
   ]
  },
  {
   "cell_type": "code",
   "execution_count": 35,
   "metadata": {},
   "outputs": [
    {
     "name": "stdout",
     "output_type": "stream",
     "text": [
      "Healthy samples: 50\n",
      "Disease samples: 49\n"
     ]
    }
   ],
   "source": [
    "healthy_count = (labels == \"H\")\n",
    "disease_count = (labels == \"M\")  # Assuming \"D\" is the other class\n",
    "\n",
    "print(f\"Healthy samples: {healthy_count.sum().iloc[0]}\")\n",
    "print(f\"Disease samples: {disease_count.sum().iloc[0]}\")"
   ]
  },
  {
   "cell_type": "markdown",
   "metadata": {},
   "source": [
    "4) If there are missing values, then remove the entire row\n",
    "(gene) from the data matrix.\n",
    "How many rows left now?"
   ]
  },
  {
   "cell_type": "code",
   "execution_count": 36,
   "metadata": {},
   "outputs": [
    {
     "name": "stdout",
     "output_type": "stream",
     "text": [
      "There are 54628 genes left after removing genes with missing values.\n"
     ]
    }
   ],
   "source": [
    "cleaned_df = df.apply(pd.to_numeric, errors='coerce')\n",
    "cleaned_df = cleaned_df.dropna(axis=GENE_AXIS)\n",
    "print(f\"There are {cleaned_df.shape[GENE_AXIS]} genes left after removing genes with missing values.\")"
   ]
  },
  {
   "cell_type": "markdown",
   "metadata": {},
   "source": [
    "5) Pick 20 genes at random. Draw histograms comparing\n",
    "expression levels of each of these genes in the two\n",
    "classes M and H."
   ]
  },
  {
   "cell_type": "code",
   "execution_count": 74,
   "metadata": {},
   "outputs": [
    {
     "data": {
      "image/png": "[encoded data removed]",
      "text/plain": [
       "<Figure size 1200x800 with 1 Axes>"
      ]
     },
     "metadata": {},
     "output_type": "display_data"
    }
   ],
   "source": [
    "np.random.seed(0)\n",
    "SAMPLE_AMOUNT = 1\n",
    "selected_genes = cleaned_df.sample(SAMPLE_AMOUNT, axis=GENE_AXIS).columns\n",
    "df_healthy  = cleaned_df.loc[labels[\"Class\"] == \"H\", selected_genes]\n",
    "df_disease = cleaned_df.loc[labels[\"Class\"] == \"M\", selected_genes]\n",
    "\n",
    "plt.figure(figsize=(12, 8))\n",
    "for gene in selected_genes:\n",
    "    plt.hist(df_healthy[gene], bins=10, alpha=0.5, label=f\"{gene} (Healthy)\", density=True)\n",
    "    plt.hist(df_disease[gene], bins=10, alpha=0.5, label=f\"{gene} (Disease)\", density=True)\n",
    "\n",
    "plt.xlabel(\"Expression Level\")\n",
    "plt.ylabel(\"Density\")\n",
    "plt.title(\"Gene Expression Histograms: Healthy vs Disease\")\n",
    "plt.legend(loc = 'upper right', fontsize='small', ncol=2, frameon=False)\n",
    "plt.show() "
   ]
  }
 ],
 "metadata": {
  "kernelspec": {
   "display_name": "iml_project",
   "language": "python",
   "name": "python3"
  },
  "language_info": {
   "codemirror_mode": {
    "name": "ipython",
    "version": 3
   },
   "file_extension": ".py",
   "mimetype": "text/x-python",
   "name": "python",
   "nbconvert_exporter": "python",
   "pygments_lexer": "ipython3",
   "version": "3.9.21"
  }
 },
 "nbformat": 4,
 "nbformat_minor": 2
}
